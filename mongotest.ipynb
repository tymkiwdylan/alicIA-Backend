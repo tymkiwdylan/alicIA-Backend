{
 "cells": [
  {
   "cell_type": "code",
   "execution_count": 3,
   "metadata": {},
   "outputs": [],
   "source": [
    "import requests\n",
    "from requests.auth import HTTPDigestAuth"
   ]
  },
  {
   "cell_type": "code",
   "execution_count": 21,
   "metadata": {},
   "outputs": [],
   "source": [
    "headers = {\n",
    "    'Content-Type': 'application/json',\n",
    "    'Accept': 'application/vnd.atlas.2023-02-01+json'\n",
    "}\n",
    "\n",
    "response = requests.post(\n",
    "    'https://cloud.mongodb.com/api/atlas/v2/groups/651c60b6f0266870bf2ef50b/clusters/Stock/fts/indexes',\n",
    "    headers=headers,\n",
    "    auth=HTTPDigestAuth('atvnxtkh', 'a50cadb1-955b-45cf-b91e-abcd983e4cab'),\n",
    "    json={\n",
    "        \"collectionName\": \"CompanyX_Items\",\n",
    "        \"database\": \"stock\",\n",
    "        \"name\": \"item_search\",\n",
    "        \"mappings\": {\n",
    "            \"dynamic\": True,\n",
    "        }\n",
    "    }\n",
    ")"
   ]
  },
  {
   "cell_type": "code",
   "execution_count": 22,
   "metadata": {},
   "outputs": [
    {
     "data": {
      "text/plain": [
       "200"
      ]
     },
     "execution_count": 22,
     "metadata": {},
     "output_type": "execute_result"
    }
   ],
   "source": [
    "response.status_code"
   ]
  },
  {
   "cell_type": "code",
   "execution_count": null,
   "metadata": {},
   "outputs": [],
   "source": []
  }
 ],
 "metadata": {
  "kernelspec": {
   "display_name": "\"Python/Mu (mu_venv-38-20230221-114721)\"",
   "language": "python",
   "name": "mu_venv-38-20230221-114721"
  },
  "language_info": {
   "codemirror_mode": {
    "name": "ipython",
    "version": 3
   },
   "file_extension": ".py",
   "mimetype": "text/x-python",
   "name": "python",
   "nbconvert_exporter": "python",
   "pygments_lexer": "ipython3",
   "version": "3.8.12"
  }
 },
 "nbformat": 4,
 "nbformat_minor": 2
}
