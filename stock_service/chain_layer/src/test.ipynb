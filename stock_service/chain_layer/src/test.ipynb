{
 "cells": [
  {
   "cell_type": "code",
   "execution_count": 49,
   "metadata": {},
   "outputs": [
    {
     "name": "stdout",
     "output_type": "stream",
     "text": [
      "<Response [200]>\n"
     ]
    }
   ],
   "source": [
    "import requests\n",
    "\n",
    "response = requests.get('http://127.0.0.1:7000/search?query=coca')\n",
    "\n",
    "print(response)"
   ]
  },
  {
   "cell_type": "code",
   "execution_count": 50,
   "metadata": {},
   "outputs": [
    {
     "data": {
      "text/plain": [
       "{'data': '[{\"_id\": {\"$oid\": \"6525471ad1e46bc0c8989504\"}, \"name\": \"Coca-Cola\", \"sku\": \"123456\", \"description\": \"The best drink ever\", \"cost\": 1, \"price\": 35.8, \"current_stock\": 50}]'}"
      ]
     },
     "execution_count": 50,
     "metadata": {},
     "output_type": "execute_result"
    }
   ],
   "source": [
    "response.json()"
   ]
  },
  {
   "cell_type": "code",
   "execution_count": 46,
   "metadata": {},
   "outputs": [
    {
     "name": "stdout",
     "output_type": "stream",
     "text": [
      "<Response [200]>\n"
     ]
    }
   ],
   "source": [
    "import requests\n",
    "\n",
    "response = requests.get('http://127.0.0.1:7000/overview')\n",
    "\n",
    "print(response)"
   ]
  },
  {
   "cell_type": "code",
   "execution_count": 47,
   "metadata": {},
   "outputs": [
    {
     "data": {
      "text/plain": [
       "{'data': '[{\"_id\": {\"$oid\": \"651fe3d193ea56f650813927\"}, \"name\": \"Sample Product\", \"SKU\": \"12345\", \"description\": \"This is a sample product\", \"cost\": 10.0, \"price\": 36.0, \"status\": \"Out of stock\"}, {\"_id\": {\"$oid\": \"651fe41b93ea56f650813928\"}, \"name\": \"Sample Product\", \"SKU\": \"12345\", \"description\": \"This is a sample product\", \"cost\": 10.0, \"price\": 36.0, \"status\": \"Out of stock\"}, {\"_id\": {\"$oid\": \"651fe48c9d3aa01ffc199b4b\"}, \"name\": \"Sample Product\", \"SKU\": \"12345\", \"description\": \"This is a sample product\", \"cost\": 10.0, \"price\": 36.0, \"status\": \"Out of stock\"}, {\"_id\": {\"$oid\": \"651fe4d16ff3b2f4f12abdd8\"}, \"name\": \"Sample Product\", \"SKU\": \"12345\", \"description\": \"This is a sample product\", \"cost\": 10.0, \"price\": 36.0, \"status\": \"Out of stock\"}, {\"_id\": {\"$oid\": \"651fe563d839e77fd778ef08\"}, \"name\": \"Sample Product\", \"SKU\": \"12345\", \"description\": \"This is a sample product\", \"cost\": 10.0, \"price\": 36.0, \"status\": \"Out of stock\"}, {\"_id\": {\"$oid\": \"651feaac46e3dedca16f9cb7\"}, \"name\": \"Sample Product\", \"SKU\": \"12345\", \"description\": \"This is a sample product\", \"cost\": 10.0, \"price\": 36.0, \"status\": \"Out of stock\"}, {\"_id\": {\"$oid\": \"6525471ad1e46bc0c8989504\"}, \"name\": \"Coca-Cola\", \"sku\": \"123456\", \"description\": \"The best drink ever\", \"cost\": 1, \"price\": 25.8, \"status\": \"In stock\"}]',\n",
       " 'message': 'success'}"
      ]
     },
     "execution_count": 47,
     "metadata": {},
     "output_type": "execute_result"
    }
   ],
   "source": [
    "response.json()"
   ]
  },
  {
   "cell_type": "code",
   "execution_count": 44,
   "metadata": {},
   "outputs": [
    {
     "data": {
      "text/plain": [
       "<Response [200]>"
      ]
     },
     "execution_count": 44,
     "metadata": {},
     "output_type": "execute_result"
    }
   ],
   "source": [
    "option = 'update_all'\n",
    "change_value = -50\n",
    "is_precentage = True\n",
    "\n",
    "json = {\n",
    "    'option': option,\n",
    "    'change_value': change_value,\n",
    "    'is_percentage': is_precentage\n",
    "}\n",
    "\n",
    "response = requests.put('http://127.0.0.1:7000/price', json=json)\n",
    "\n",
    "response"
   ]
  },
  {
   "cell_type": "code",
   "execution_count": 37,
   "metadata": {},
   "outputs": [
    {
     "data": {
      "text/plain": [
       "[{'message': 'Item price updated successfully'},\n",
       " {'message': 'Item price updated successfully'},\n",
       " {'message': 'Item price updated successfully'},\n",
       " {'message': 'Item price updated successfully'},\n",
       " {'message': 'Item price updated successfully'},\n",
       " {'message': 'Item price updated successfully'},\n",
       " {'message': 'Item price updated successfully'}]"
      ]
     },
     "execution_count": 37,
     "metadata": {},
     "output_type": "execute_result"
    }
   ],
   "source": [
    "response.json()"
   ]
  },
  {
   "cell_type": "code",
   "execution_count": 51,
   "metadata": {},
   "outputs": [
    {
     "data": {
      "text/plain": [
       "<Response [200]>"
      ]
     },
     "execution_count": 51,
     "metadata": {},
     "output_type": "execute_result"
    }
   ],
   "source": [
    "option = 'update_one'\n",
    "change_value = -30\n",
    "item_id = '6525471ad1e46bc0c8989504'\n",
    "is_precentage = False\n",
    "\n",
    "json = {\n",
    "    'option': option,\n",
    "    'change_value': change_value,\n",
    "    'item_id': item_id,\n",
    "    'is_percentage': is_precentage\n",
    "}\n",
    "\n",
    "response = requests.put('http://127.0.0.1:7000/price', json=json)\n",
    "\n",
    "response"
   ]
  },
  {
   "cell_type": "code",
   "execution_count": 67,
   "metadata": {},
   "outputs": [
    {
     "data": {
      "text/plain": [
       "<Response [200]>"
      ]
     },
     "execution_count": 67,
     "metadata": {},
     "output_type": "execute_result"
    }
   ],
   "source": [
    "response = requests.get('http://127.0.0.1:7000/movement-log')\n",
    "\n",
    "response"
   ]
  },
  {
   "cell_type": "code",
   "execution_count": 68,
   "metadata": {},
   "outputs": [
    {
     "data": {
      "text/plain": [
       "{'data': '[{\"_id\": {\"$oid\": \"652fef1a6fd73cb75ddfb888\"}, \"item_id\": \"6525471ad1e46bc0c8989504\", \"quantity\": 10, \"movement_type\": \"received\", \"description\": \"Received 10 new Coca-Colas\"}]',\n",
       " 'message': 'success'}"
      ]
     },
     "execution_count": 68,
     "metadata": {},
     "output_type": "execute_result"
    }
   ],
   "source": [
    "response.json()"
   ]
  },
  {
   "cell_type": "code",
   "execution_count": 65,
   "metadata": {},
   "outputs": [
    {
     "data": {
      "text/plain": [
       "<Response [200]>"
      ]
     },
     "execution_count": 65,
     "metadata": {},
     "output_type": "execute_result"
    }
   ],
   "source": [
    "item_id = '6525471ad1e46bc0c8989504'\n",
    "quantity = 10\n",
    "movement_type = 'received'\n",
    "description = 'Received 10 new Coca-Colas'\n",
    "json = {\n",
    "    'movement':{\n",
    "        'item_id': item_id,\n",
    "        'quantity': quantity,\n",
    "        'movement_type': movement_type,\n",
    "        'description': description\n",
    "        }\n",
    "}\n",
    "\n",
    "response = requests.post('http://127.0.0.1:7000/movement-log', json=json)\n",
    "\n",
    "response"
   ]
  },
  {
   "cell_type": "code",
   "execution_count": 66,
   "metadata": {},
   "outputs": [
    {
     "data": {
      "text/plain": [
       "{'message': 'Stock movement logged successfully'}"
      ]
     },
     "execution_count": 66,
     "metadata": {},
     "output_type": "execute_result"
    }
   ],
   "source": [
    "response.json()"
   ]
  },
  {
   "cell_type": "code",
   "execution_count": 72,
   "metadata": {},
   "outputs": [
    {
     "data": {
      "text/plain": [
       "<Response [200]>"
      ]
     },
     "execution_count": 72,
     "metadata": {},
     "output_type": "execute_result"
    }
   ],
   "source": [
    "response = requests.get('http://127.0.0.1:7000/stock-valuation')\n",
    "\n",
    "response"
   ]
  },
  {
   "cell_type": "code",
   "execution_count": null,
   "metadata": {},
   "outputs": [],
   "source": []
  },
  {
   "cell_type": "code",
   "execution_count": 73,
   "metadata": {},
   "outputs": [
    {
     "data": {
      "text/plain": [
       "{'data': '{\"total_stock_value\": 50.0, \"most_valuable_items\": [{\"_id\": {\"$oid\": \"6525471ad1e46bc0c8989504\"}, \"name\": \"Coca-Cola\", \"sku\": \"123456\", \"description\": \"The best drink ever\", \"cost\": 1, \"price\": 5.799999999999997, \"stock_level\": 50}, {\"_id\": {\"$oid\": \"651fe3d193ea56f650813927\"}, \"name\": \"Sample Product\", \"SKU\": \"12345\", \"description\": \"This is a sample product\", \"cost\": 10.0, \"price\": 36.0, \"stock_level\": 0}, {\"_id\": {\"$oid\": \"651fe41b93ea56f650813928\"}, \"name\": \"Sample Product\", \"SKU\": \"12345\", \"description\": \"This is a sample product\", \"cost\": 10.0, \"price\": 36.0, \"stock_level\": 0}, {\"_id\": {\"$oid\": \"651fe48c9d3aa01ffc199b4b\"}, \"name\": \"Sample Product\", \"SKU\": \"12345\", \"description\": \"This is a sample product\", \"cost\": 10.0, \"price\": 36.0, \"stock_level\": 0}, {\"_id\": {\"$oid\": \"651fe4d16ff3b2f4f12abdd8\"}, \"name\": \"Sample Product\", \"SKU\": \"12345\", \"description\": \"This is a sample product\", \"cost\": 10.0, \"price\": 36.0, \"stock_level\": 0}]}',\n",
       " 'message': 'success'}"
      ]
     },
     "execution_count": 73,
     "metadata": {},
     "output_type": "execute_result"
    }
   ],
   "source": [
    "response.json()"
   ]
  },
  {
   "cell_type": "code",
   "execution_count": null,
   "metadata": {},
   "outputs": [],
   "source": []
  }
 ],
 "metadata": {
  "kernelspec": {
   "display_name": ".venv",
   "language": "python",
   "name": "python3"
  },
  "language_info": {
   "codemirror_mode": {
    "name": "ipython",
    "version": 3
   },
   "file_extension": ".py",
   "mimetype": "text/x-python",
   "name": "python",
   "nbconvert_exporter": "python",
   "pygments_lexer": "ipython3",
   "version": "3.11.4"
  },
  "orig_nbformat": 4
 },
 "nbformat": 4,
 "nbformat_minor": 2
}
