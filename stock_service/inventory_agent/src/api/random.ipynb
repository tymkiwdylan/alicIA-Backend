{
 "cells": [
  {
   "cell_type": "code",
   "execution_count": 1,
   "metadata": {},
   "outputs": [],
   "source": [
    "import pkgutil\n",
    "import importlib\n",
    "from pathlib import Path\n",
    "\n",
    "def load_tools_from_directory(directory):\n",
    "    tools = {}\n",
    "\n",
    "    # Convert string directory to Path object if necessary\n",
    "    if isinstance(directory, str):\n",
    "        directory = Path(directory)\n",
    "\n",
    "    # Ensure the directory is a package by checking for __init__.py\n",
    "    if not (directory / '__init__.py').exists():\n",
    "        raise ValueError(f\"{directory} is not a package. Missing '__init__.py'.\")\n",
    "\n",
    "    # Import the package\n",
    "    package = importlib.import_module(directory.name)\n",
    "\n",
    "    # Iterate through the modules in the package\n",
    "    for _, module_name, _ in pkgutil.iter_modules([directory]):\n",
    "        module = importlib.import_module(f\"{directory.name}.{module_name}\")\n",
    "\n",
    "        # Iterate over attributes of the module and find classes\n",
    "        for attribute_name in dir(module):\n",
    "            attribute = getattr(module, attribute_name)\n",
    "\n",
    "            # Check if the attribute is a class and defined in this module (not imported)\n",
    "            if isinstance(attribute, type) and attribute.__module__ == module.__name__:\n",
    "                tools[attribute_name] = attribute\n",
    "\n",
    "    return tools"
   ]
  },
  {
   "cell_type": "code",
   "execution_count": 2,
   "metadata": {},
   "outputs": [],
   "source": [
    "functions = load_tools_from_directory('functions')"
   ]
  },
  {
   "cell_type": "code",
   "execution_count": 11,
   "metadata": {},
   "outputs": [],
   "source": [
    "def register_functions():\n",
    "    functions = load_tools_from_directory('functions')\n",
    "    function_settings = []\n",
    "    \n",
    "    for _ , tool_class in functions.items():\n",
    "        function_settings.append(\n",
    "            {\n",
    "                'type': 'function',\n",
    "                'function': tool_class.settings\n",
    "                }\n",
    "            )\n",
    "    \n",
    "    return function_settings"
   ]
  },
  {
   "cell_type": "code",
   "execution_count": 12,
   "metadata": {},
   "outputs": [
    {
     "data": {
      "text/plain": [
       "[{'type': 'function',\n",
       "  'function': {'name': 'inventory_overview',\n",
       "   'description': 'Give an overview of the inventory',\n",
       "   'parameters': {'type': 'object', 'properties': {}, 'required': []}}}]"
      ]
     },
     "execution_count": 12,
     "metadata": {},
     "output_type": "execute_result"
    }
   ],
   "source": [
    "register_functions()"
   ]
  },
  {
   "cell_type": "code",
   "execution_count": 41,
   "metadata": {},
   "outputs": [],
   "source": [
    "import requests\n",
    "\n",
    "json = {\n",
    "    'user_id': 2,\n",
    "    'company_name': 'Molino',\n",
    "    'tone': 'Serio'\n",
    "}\n",
    "\n",
    "response = requests.post('http://127.0.0.1:5001/assistant', json=json)"
   ]
  },
  {
   "cell_type": "code",
   "execution_count": 53,
   "metadata": {},
   "outputs": [],
   "source": [
    "response = requests.post('http://127.0.0.1:5001/conversation/2')"
   ]
  },
  {
   "cell_type": "code",
   "execution_count": 54,
   "metadata": {},
   "outputs": [],
   "source": [
    "response = requests.get('http://127.0.0.1:5001/conversations', params={'user_id': 2})"
   ]
  },
  {
   "cell_type": "code",
   "execution_count": 55,
   "metadata": {},
   "outputs": [
    {
     "data": {
      "text/plain": [
       "'thread_uhCpYp7440nN8glP8VoXN5zM'"
      ]
     },
     "execution_count": 55,
     "metadata": {},
     "output_type": "execute_result"
    }
   ],
   "source": [
    "thread_id = response.json()['data'][-1]\n",
    "thread_id"
   ]
  },
  {
   "cell_type": "code",
   "execution_count": 56,
   "metadata": {},
   "outputs": [],
   "source": [
    "json = {\n",
    "    'thread_id': thread_id,\n",
    "    'prompt': 'Dame un resumen del inventario'\n",
    "}\n",
    "\n",
    "response = requests.post('http://127.0.0.1:5001/prompt', json=json)"
   ]
  },
  {
   "cell_type": "code",
   "execution_count": 58,
   "metadata": {},
   "outputs": [
    {
     "data": {
      "text/plain": [
       "'Actualmente, el almacén cuenta con un surtido variado de herramientas y materiales disponibles en inventario. Aquí tienes un resumen de algunos de los artículos:\\n\\n1. **Taladro Inalámbrico**\\n   - SKU: SKU1000\\n   - Descripción: Taladro portátil con batería recargable, ideal para trabajos domésticos y profesionales\\n   - Costo: $50\\n   - Precio: $82.50\\n   - Estado: En stock\\n\\n2. **Juego de Llaves Allen**\\n   - SKU: SKU1001\\n   - Descripción: Set de llaves Allen en varios tamaños, acero resistente\\n   - Costo: $60\\n   - Precio: $99\\n   - Estado: En stock\\n\\n3. **Sierra Circular**\\n   - SKU: SKU1002\\n   - Descripción: Sierra circular de 7 pulgadas, perfecta para cortes precisos en madera\\n   - Costo: $70\\n   - Precio: $115.50\\n   - Estado: En stock\\n\\n...y la lista continúa con herramientas como martillos, destornilladores, lámparas de trabajo, cintas métricas, entre otros items esenciales para trabajos de construcción y bricolaje.\\n\\nSi necesitas información detallada de un producto específico o si estás interesado en un artículo que no fue mencionado, por favor házmelo saber y te ayudaré con gusto.'"
      ]
     },
     "execution_count": 58,
     "metadata": {},
     "output_type": "execute_result"
    }
   ],
   "source": [
    "response.json()['data']"
   ]
  },
  {
   "cell_type": "code",
   "execution_count": null,
   "metadata": {},
   "outputs": [],
   "source": []
  }
 ],
 "metadata": {
  "kernelspec": {
   "display_name": ".venv",
   "language": "python",
   "name": "python3"
  },
  "language_info": {
   "codemirror_mode": {
    "name": "ipython",
    "version": 3
   },
   "file_extension": ".py",
   "mimetype": "text/x-python",
   "name": "python",
   "nbconvert_exporter": "python",
   "pygments_lexer": "ipython3",
   "version": "3.11.4"
  }
 },
 "nbformat": 4,
 "nbformat_minor": 2
}
