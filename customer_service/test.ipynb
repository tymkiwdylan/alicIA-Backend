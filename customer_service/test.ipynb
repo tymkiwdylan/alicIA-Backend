{
 "cells": [
  {
   "cell_type": "code",
   "execution_count": 15,
   "metadata": {},
   "outputs": [],
   "source": [
    "import requests\n",
    "\n"
   ]
  },
  {
   "cell_type": "code",
   "execution_count": 51,
   "metadata": {},
   "outputs": [],
   "source": [
    "\n",
    "json = {\n",
    "    'company_name': 'CompanyX',\n",
    "    'tone': 'friendly',\n",
    "    'phone_number': 'whatsapp:+14155238886'\n",
    "}\n",
    "\n",
    "response = requests.post('http://127.0.0.1:80/customer-agent/assistant', json=json)\n",
    "\n"
   ]
  },
  {
   "cell_type": "code",
   "execution_count": 46,
   "metadata": {},
   "outputs": [],
   "source": [
    "response = requests.get('http://127.0.0.1:80/customer-agent/conversations', params={'phone_number': 'whatsapp:+14155238886'})\n"
   ]
  },
  {
   "cell_type": "code",
   "execution_count": 47,
   "metadata": {},
   "outputs": [
    {
     "data": {
      "text/plain": [
       "{'data': [{'agent_id': 'asst_01H1VJgXH7z7aqrkRLkEFGey',\n",
       "   'id': 1,\n",
       "   'messages': [{'content': 'Necesito algo que me proteja mientras trabajo',\n",
       "     'conversation_id': '1',\n",
       "     'id': 1,\n",
       "     'role': 'user'},\n",
       "    {'content': '¡Entiendo totalmente la importancia de la seguridad en el trabajo! Sin embargo, mi enfoque principal es proporcionar información sobre productos y servicios de CompanyX. Si tienes alguna consulta relacionada con nuestros productos o necesitas ayuda para encontrar algo específico, estaré encantado de ayudarte.',\n",
       "     'conversation_id': '1',\n",
       "     'id': 2,\n",
       "     'role': 'assistant'},\n",
       "    {'content': 'Bueno, algo que me proteja mientras uso herramientas',\n",
       "     'conversation_id': '1',\n",
       "     'id': 3,\n",
       "     'role': 'user'},\n",
       "    {'content': '¡Acabo de encontrar algo que te puede interesar! Tenemos \"Guantes de Trabajo\" resistentes disponibles, ideales para proteger tus manos mientras trabajas. El precio es de $19.80. ¿Te gustaría conocer más detalles sobre este producto o necesitas ayuda con algo más?',\n",
       "     'conversation_id': '1',\n",
       "     'id': 4,\n",
       "     'role': 'assistant'},\n",
       "    {'content': 'Si por favor, contame mas',\n",
       "     'conversation_id': '1',\n",
       "     'id': 5,\n",
       "     'role': 'user'},\n",
       "    {'content': 'Los \"Guantes de Trabajo\" disponibles son resistentes, proporcionan protección y comodidad. Tienen un precio de $19.80 y actualmente tenemos 100 unidades en stock. Están diseñados para ofrecer protección adicional a tus manos mientras trabajas, brindando la seguridad que necesitas. Si estás interesado en adquirirlos, te puedo ayudar a realizar la compra o si tienes alguna otra consulta, estoy a tu disposición.',\n",
       "     'conversation_id': '1',\n",
       "     'id': 6,\n",
       "     'role': 'assistant'}],\n",
       "   'phone_number': 'whatsapp:+12073139513',\n",
       "   'thread_id': 'thread_ZexQr3iTMTNAxJw7mOFmcdSI'}]}"
      ]
     },
     "execution_count": 47,
     "metadata": {},
     "output_type": "execute_result"
    }
   ],
   "source": [
    "response.json()"
   ]
  },
  {
   "cell_type": "code",
   "execution_count": 12,
   "metadata": {},
   "outputs": [
    {
     "data": {
      "text/plain": [
       "{'data': [{'agent_id': 'asst_SyWUlbUitMYTYwUgn29qfEl2',\n",
       "   'id': 1,\n",
       "   'messages': [{'content': 'Hola',\n",
       "     'conversation_id': '1',\n",
       "     'id': 1,\n",
       "     'role': 'user'},\n",
       "    {'content': '¡Hola! ¿En qué puedo ayudarte hoy?',\n",
       "     'conversation_id': '1',\n",
       "     'id': 2,\n",
       "     'role': 'assistant'}],\n",
       "   'phone_number': 'whatsapp:+12073139513',\n",
       "   'thread_id': 'thread_GNRWdSgiBqfrIaV7L3oezBmV'}]}"
      ]
     },
     "execution_count": 12,
     "metadata": {},
     "output_type": "execute_result"
    }
   ],
   "source": [
    "response.json()"
   ]
  },
  {
   "cell_type": "code",
   "execution_count": 13,
   "metadata": {},
   "outputs": [],
   "source": [
    "response = requests.get('http://127.0.0.1:9000/messages', params={'conversation_id': 1})"
   ]
  },
  {
   "cell_type": "code",
   "execution_count": 14,
   "metadata": {},
   "outputs": [
    {
     "data": {
      "text/plain": [
       "{'data': [{'content': 'Hola', 'conversation_id': '1', 'id': 1, 'role': 'user'},\n",
       "  {'content': '¡Hola! ¿En qué puedo ayudarte hoy?',\n",
       "   'conversation_id': '1',\n",
       "   'id': 2,\n",
       "   'role': 'assistant'}]}"
      ]
     },
     "execution_count": 14,
     "metadata": {},
     "output_type": "execute_result"
    }
   ],
   "source": [
    "response.json()"
   ]
  },
  {
   "cell_type": "code",
   "execution_count": null,
   "metadata": {},
   "outputs": [],
   "source": []
  }
 ],
 "metadata": {
  "kernelspec": {
   "display_name": ".venv",
   "language": "python",
   "name": "python3"
  },
  "language_info": {
   "codemirror_mode": {
    "name": "ipython",
    "version": 3
   },
   "file_extension": ".py",
   "mimetype": "text/x-python",
   "name": "python",
   "nbconvert_exporter": "python",
   "pygments_lexer": "ipython3",
   "version": "3.11.4"
  }
 },
 "nbformat": 4,
 "nbformat_minor": 2
}
